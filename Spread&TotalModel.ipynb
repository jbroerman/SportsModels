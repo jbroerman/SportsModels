{
  "nbformat": 4,
  "nbformat_minor": 0,
  "metadata": {
    "colab": {
      "provenance": []
    },
    "kernelspec": {
      "name": "python3",
      "display_name": "Python 3"
    },
    "language_info": {
      "name": "python"
    }
  },
  "cells": [
    {
      "cell_type": "code",
      "execution_count": 6,
      "metadata": {
        "id": "Kr4r21e2L7jb"
      },
      "outputs": [],
      "source": [
        "import numpy as np\n",
        "import pandas as pd\n",
        "\n",
        "# Define team statistics\n",
        "arkansas_efficiency = 118\n",
        "arkansas_defense = 101.7\n",
        "arkansas_possessions = 70\n",
        "\n",
        "uconn_efficiency = 118.5 \n",
        "uconn_defense = 89.3\n",
        "uconn_possessions = 70\n",
        "\n"
      ]
    },
    {
      "cell_type": "code",
      "source": [
        "# Calculate points scored and allowed for each team\n",
        "arkansas_points_scored = arkansas_efficiency * arkansas_possessions / 100\n",
        "arkansas_points_allowed = arkansas_defense * arkansas_possessions / 100\n",
        "\n",
        "uconn_points_scored = uconn_efficiency * uconn_possessions / 100\n",
        "uconn_points_allowed = uconn_defense * uconn_possessions / 100\n",
        "\n",
        "# Calculate hypothetical scores for each team\n",
        "arkansas_hypothetical_score = (arkansas_points_scored + uconn_points_allowed) / 2\n",
        "uconn_hypothetical_score = (uconn_points_scored + arkansas_points_allowed) / 2\n",
        "\n",
        "# Calculate game total\n",
        "game_total = arkansas_hypothetical_score + uconn_hypothetical_score\n",
        "\n",
        "# Calculate point spread\n",
        "point_spread = uconn_hypothetical_score - arkansas_hypothetical_score\n",
        "\n",
        "# Print results\n",
        "print(\"Game Total: \", round(game_total, 2))\n",
        "print(\"Point Spread: \", round(point_spread, 2))\n"
      ],
      "metadata": {
        "colab": {
          "base_uri": "https://localhost:8080/"
        },
        "id": "Aun_jwdeNK49",
        "outputId": "6ff638ac-cc8e-4422-98bf-d94bbe58d70e"
      },
      "execution_count": 7,
      "outputs": [
        {
          "output_type": "stream",
          "name": "stdout",
          "text": [
            "Game Total:  149.62\n",
            "Point Spread:  4.52\n"
          ]
        }
      ]
    }
  ]
}